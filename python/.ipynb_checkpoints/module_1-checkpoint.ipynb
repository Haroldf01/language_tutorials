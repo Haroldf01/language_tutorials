{
 "cells": [
  {
   "cell_type": "markdown",
   "id": "decreased-penalty",
   "metadata": {},
   "source": [
    "# What is Python\n",
    "\n",
    "Python is a popular programming language. It was created by Guido van Rossum, and released in 1991.\n",
    "\n",
    "It is used for:\n",
    "- web development (server-side),\n",
    "- software development,\n",
    "- mathematics,\n",
    "- scientific computing,\n",
    "- system scripting,\n",
    "- machine learning and artificial intelligence domain\n",
    "- data science"
   ]
  },
  {
   "cell_type": "markdown",
   "id": "daily-lexington",
   "metadata": {},
   "source": [
    "# What can Python do?\n",
    "\n",
    "- Python can be used on a server to create web applications.\n",
    "- Python can be used alongside software to create workflows.\n",
    "- Python can connect to database systems. It can also read and modify files.\n",
    "- Python can be used to handle big data and perform complex mathematics.\n",
    "- Python can be used for rapid prototyping, or for production-ready software development."
   ]
  },
  {
   "cell_type": "markdown",
   "id": "historic-fifth",
   "metadata": {},
   "source": [
    "# Why Python?\n",
    "\n",
    "- Python works on different platforms (Windows, Mac, Linux, Raspberry Pi, etc).\n",
    "- Python has a simple syntax similar to the English language.\n",
    "- Python has syntax that allows developers to write programs with fewer lines than some other programming languages.\n",
    "- Python runs on an interpreter system, meaning that code can be executed as soon as it is written. This means that prototyping can be very quick.\n",
    "-  **Python is a multi-paradigm programming language.** Python can be treated in a procedural way, an object-oriented way or a functional way or even scripting."
   ]
  },
  {
   "cell_type": "markdown",
   "id": "circular-porter",
   "metadata": {},
   "source": [
    "# Python Syntax compared to other programming languages\n",
    "\n",
    "- Python was designed for readability, and has some similarities to the English language with influence from mathematics.\n",
    "- Python uses few lines to complete a command, as opposed to other programming languages which often use semicolons or parentheses.\n",
    "- Python relies on **indentation, using whitespace, to define scope;** such as the scope of loops, functions and classes. Other programming languages often use curly-brackets for this purpose."
   ]
  },
  {
   "cell_type": "code",
   "execution_count": 1,
   "id": "sapphire-visiting",
   "metadata": {},
   "outputs": [
    {
     "name": "stdout",
     "output_type": "stream",
     "text": [
      "Hello, World!\n"
     ]
    }
   ],
   "source": [
    "# example hello world program\n",
    "print(\"Hello, World!\")"
   ]
  },
  {
   "cell_type": "markdown",
   "id": "stable-understanding",
   "metadata": {},
   "source": [
    "# Quick Info\n",
    "\n",
    "Python is an interpreted programming language, this means that as a developer you write Python (.py) files in a text editor and then put those files into the python interpreter to be executed.\n",
    "\n",
    "The way to run a python file is like this on the command line:\n",
    "\n",
    "`>>> python filename.py`"
   ]
  },
  {
   "cell_type": "markdown",
   "id": "finnish-figure",
   "metadata": {},
   "source": [
    "# Python Indentation\n",
    "\n",
    "- Indentation refers to the spaces at the beginning of a code line.\n",
    "- Where in other programming languages the indentation in code is for readability only, the indentation in Python is very important.\n",
    "- **Python uses indentation to indicate a block of code.**"
   ]
  },
  {
   "cell_type": "markdown",
   "id": "ranking-mirror",
   "metadata": {},
   "source": [
    "# Python Keywords\n",
    "\n",
    "The following identifiers are used as reserved words, or keywords of the language, and cannot be used as ordinary identifiers. They must be spelled exactly as written here:\n",
    "\n",
    "We **cannot** use a keyword as a variable name, function name or any other identifier. They are used to define the syntax and structure of the Python language.\n",
    "\n",
    "![python-keywords](./images/python_keywords.png)"
   ]
  },
  {
   "cell_type": "markdown",
   "id": "sharp-catalog",
   "metadata": {},
   "source": [
    "# Python Identifiers\n",
    "\n",
    "An identifier is a name given to entities like class, functions, variables, etc. It helps to differentiate one entity from another.\n",
    "\n",
    "## Rules for writing identifiers\n",
    "\n",
    "1. Identifiers can be a combination of letters in lowercase **(a to z)** or uppercase **(A to Z)** or digits **(0 to 9)** or an underscore `_`. Names like `myClass`, `var_1` and `print_this_to_screen`, all are valid example.\n",
    "2. An identifier cannot start with a digit. `1variable` is **invalid**, but `variable1` is a **valid** name.\n",
    "3. Keywords cannot be used as identifiers.\n",
    "\n",
    "```python\n",
    "global = 1 # invalid\n",
    "```\n",
    "\n",
    "```bash\n",
    "# above line causes this error \n",
    "  File \"<interactive input>\", line 1\n",
    "    global = 1\n",
    "           ^\n",
    "SyntaxError: invalid syntax\n",
    "```"
   ]
  },
  {
   "cell_type": "markdown",
   "id": "dangerous-procurement",
   "metadata": {},
   "source": [
    "# Python Statements\n",
    "\n",
    "- Instructions that a Python interpreter can execute are called statements.\n",
    "- **For example**, `a = 1` is an assignment statement. if statement, for statement, while statement, etc. are other kinds of statements which will be discussed later.\n",
    "\n",
    "## Multi-line statement\n",
    "\n",
    "- In Python, the end of a statement is marked by a newline character.\n",
    "- But we can make a statement **extend over multiple lines** with the line continuation character (\\). **For example:**\n",
    "\n",
    "```python\n",
    "a = 1 + 2 + 3 + \\\n",
    "    4 + 5 + 6 + \\\n",
    "    7 + 8 + 9\n",
    "```\n",
    "\n",
    "- This is an explicit line continuation.\n",
    "- In Python, line continuation is implied inside parentheses ( ), brackets [ ], and braces { }.\n",
    "- For instance, we can implement the above multi-line statement as:\n",
    "\n",
    "```python\n",
    "a = (1 + 2 + 3 +\n",
    "    4 + 5 + 6 +\n",
    "    7 + 8 + 9)\n",
    "```\n",
    "\n",
    "- We can also put multiple statements in a single line using semicolons, as follows:\n",
    "\n",
    "```python\n",
    "a = 1; b = 2; c = 3\n",
    "```\n"
   ]
  },
  {
   "cell_type": "markdown",
   "id": "contrary-consultancy",
   "metadata": {},
   "source": [
    "# Python Comments\n",
    "\n",
    "Comments are very important while writing a program. They describe what is going on inside a program, so that a person looking at the source code does not have a hard time figuring it out.\n",
    "\n",
    "You might forget the key details of the program you just wrote in a month's time. So taking the time to explain these concepts in the form of comments is always fruitful.\n",
    "\n",
    "In Python, we use the hash (#) symbol to start writing a comment.\n",
    "\n",
    "It extends up to the newline character. Comments are for programmers to better understand a program. Python Interpreter ignores comments.\n",
    "\n",
    "## Multi-line comments\n",
    "\n",
    "We can have comments that extend up to multiple lines. One way is to use the hash(#) symbol at the beginning of each line. For example:\n",
    "\n",
    "Another way of doing this is to use triple quotes, either `'''` or `\"\"\"`.\n",
    "\n",
    "- These triple quotes are generally used for multi-line strings. But they can be used as a multi-line comment as well.\n",
    "- Unless they are **not docstrings**, they do not generate any extra code."
   ]
  },
  {
   "cell_type": "code",
   "execution_count": 2,
   "id": "6643c157-1b99-48e6-bacb-9d2a4e3d475b",
   "metadata": {},
   "outputs": [],
   "source": [
    "\"\"\"this is a \n",
    "multi \n",
    "line comment\n",
    "\"\"\"\n",
    "a =3"
   ]
  },
  {
   "cell_type": "markdown",
   "id": "iraqi-marsh",
   "metadata": {},
   "source": [
    "# Docstrings in Python\n",
    "\n",
    "A docstring is short for documentation string.\n",
    "\n",
    "Python docstrings (documentation strings) are the string literals that appear right after the definition of a function, method, class, or module.\n",
    "\n",
    "Triple quotes are used while writing docstrings. For example:\n",
    "\n",
    "```python\n",
    "def double(num):\n",
    "    \"\"\"Function to double the value\"\"\"\n",
    "    return 2*num\n",
    "```\n",
    "\n",
    "- Docstrings appear **right after the definition** of a function, class, or a module.\n",
    "- This separates docstrings from multiline comments using triple quotes.\n",
    "- The docstrings are associated with the object as their `__doc__` attribute.\n",
    "\n",
    "So, we can access the docstrings of the above function with the following lines of code:\n",
    "\n",
    "```python\n",
    "def double(num):\n",
    "    \"\"\"Function to double the value\"\"\"\n",
    "    return 2*num\n",
    "print(double.__doc__)\n",
    "```\n",
    "\n",
    "```bash\n",
    "\n",
    "## output\n",
    "Function to double the value\n",
    "```"
   ]
  },
  {
   "cell_type": "code",
   "execution_count": 4,
   "id": "55e17db6-78aa-40de-9754-eb5a5eba3423",
   "metadata": {},
   "outputs": [
    {
     "data": {
      "text/plain": [
       "'Return x**y (x to the power of y).'"
      ]
     },
     "execution_count": 4,
     "metadata": {},
     "output_type": "execute_result"
    }
   ],
   "source": [
    "import math\n",
    "\n",
    "math.pow.__doc__"
   ]
  },
  {
   "cell_type": "markdown",
   "id": "automotive-graph",
   "metadata": {},
   "source": [
    "# Variables in Python\n",
    "\n",
    "- A variable is a *named location* used to store data in the memory.\n",
    "- It is helpful to think of variables as a **container** that holds data that can be changed later in the program.\n",
    "- For example, `number = 9`\n",
    "\n",
    "- Here, we have created a variable named `number`. We have assigned the value 9 to the variable.\n",
    "- You can think of variables as a bag to store books in it and that book can be replaced at any time.\n",
    "\n",
    "```python\n",
    "number = 10\n",
    "number = 1.1\n",
    "```\n",
    "\n",
    "- Initially, the value of number was 9. Later, it was changed to 1.1.\n",
    "\n",
    "> **Note:** In Python, we don't actually assign values to the variables. Instead, Python gives the reference of the object(value) to the variable.\n",
    "\n",
    "## Assigning values to Variables in Python\n",
    "\n",
    "As you can see from the above example, you can use the assignment operator `=` to assign a value to a variable.\n",
    "\n",
    "```python\n",
    "website = \"apple.com\"\n",
    "print(website)\n",
    "```\n",
    "\n",
    "> **Note:** Python is a type-inferred language, so you don't have to explicitly define the variable type. It automatically knows that apple.com is a string and declares the website variable as a string.\n",
    "\n",
    "## Assigning multiple values to multiple variables\n",
    "\n",
    "```python\n",
    "a, b, c = 5, 3.2, \"Hello\"\n",
    "\n",
    "print (a)\n",
    "print (b)\n",
    "print (c)\n",
    "```"
   ]
  },
  {
   "cell_type": "code",
   "execution_count": null,
   "id": "closing-delay",
   "metadata": {},
   "outputs": [],
   "source": [
    "# Assigning multiple values to multiple variables\n",
    "a, b, c = 5, 3.2, \"Hello\"\n",
    "\n",
    "print (a)\n",
    "print (b)\n",
    "print (c)"
   ]
  },
  {
   "cell_type": "code",
   "execution_count": null,
   "id": "measured-corrections",
   "metadata": {},
   "outputs": [],
   "source": [
    "# If we want to assign the same value to multiple variables at once, we can do this as:\n",
    "\n",
    "x = y = z = \"same\"\n",
    "\n",
    "print (x)\n",
    "print (y)\n",
    "print (z)"
   ]
  },
  {
   "cell_type": "markdown",
   "id": "burning-columbus",
   "metadata": {},
   "source": [
    "# Constants\n",
    "\n",
    "A constant is a type of variable whose value cannot be changed. It is helpful to think of constants as containers that hold information which cannot be changed later.\n",
    "\n",
    "## Assigning value to constant in Python\n",
    "\n",
    "- In Python, constants are usually **declared and assigned in a module**.\n",
    "- Here, the module is a new file containing variables, functions, etc which is imported to the main file.\n",
    "- Inside the module, constants are written in all capital letters and underscores separating the words.\n",
    "\n",
    "## Declaring and assigning value to a constant\n"
   ]
  },
  {
   "cell_type": "code",
   "execution_count": null,
   "id": "active-annotation",
   "metadata": {
    "tags": []
   },
   "outputs": [],
   "source": [
    "## Declaring and assigning value to a constant\n",
    "PI = 3.14\n",
    "GRAVITY = 9.8"
   ]
  },
  {
   "cell_type": "markdown",
   "id": "starting-kingston",
   "metadata": {},
   "source": [
    "> **Note:** In reality, we don't use constants in Python. Naming them in all capital letters is a convention to separate them from variables, however, it does not actually prevent reassignment."
   ]
  },
  {
   "cell_type": "markdown",
   "id": "gross-innocent",
   "metadata": {},
   "source": [
    "# Literals\n",
    "\n",
    "Literal is a raw data given in a variable or constant. In Python, there are various types of literals they are as follows:\n",
    "\n",
    "## Numeric Literals\n",
    "\n",
    "Numeric Literals are immutable (unchangeable). Numeric literals can belong to 3 different numerical types: Integer, Float, and Complex."
   ]
  },
  {
   "cell_type": "code",
   "execution_count": 5,
   "id": "colored-thesaurus",
   "metadata": {},
   "outputs": [
    {
     "name": "stdout",
     "output_type": "stream",
     "text": [
      "10 100 200 300\n",
      "10.5 150.0\n",
      "3.14j 3.14 0.0\n"
     ]
    }
   ],
   "source": [
    "# How to use Numeric literals\n",
    "a = 0b1010 #Binary Literals\n",
    "b = 100 #Decimal Literal \n",
    "c = 0o310 #Octal Literal\n",
    "d = 0x12c #Hexadecimal Literal\n",
    "\n",
    "#Float Literal\n",
    "float_1 = 10.5 \n",
    "float_2 = 1.5e2\n",
    "\n",
    "#Complex Literal \n",
    "x = 3.14j\n",
    "\n",
    "print(a, b, c, d)\n",
    "print(float_1, float_2)\n",
    "print(x, x.imag, x.real)"
   ]
  },
  {
   "cell_type": "markdown",
   "id": "painted-belly",
   "metadata": {},
   "source": [
    "## Explanation of Above Program\n",
    "\n",
    "- We assigned integer literals into different variables. Here, *a is binary literal*, *b is a decimal literal*, *c is an octal literal* and *d is a hexadecimal literal*.\n",
    "- 10.5 and 1.5e2 are floating-point literals. 1.5e2 is expressed with exponential and is equivalent to 1.5 * 10<sup>2</sup>.\n",
    "- We assigned a complex literal i.e 3.14j in variable x. Then we use **imaginary** literal (x.imag) and **real** literal (x.real) to create imaginary and real parts of complex numbers."
   ]
  },
  {
   "cell_type": "markdown",
   "id": "adverse-patio",
   "metadata": {},
   "source": [
    "# String literals\n",
    "\n",
    "- A string literal is a **sequence of characters** surrounded by quotes.\n",
    "- We can use both single, double, or triple quotes for a string.\n",
    "- And, a character literal is a single character surrounded by single or double quotes."
   ]
  },
  {
   "cell_type": "code",
   "execution_count": 3,
   "id": "talented-speaker",
   "metadata": {},
   "outputs": [
    {
     "name": "stdout",
     "output_type": "stream",
     "text": [
      "This is Python\n",
      "C\n",
      "This is a multiline string with more than one line code.\n",
      "Ünicöde\n",
      "raw \\n string\n"
     ]
    }
   ],
   "source": [
    "# How to use string literals\n",
    "strings = \"This is Python\"\n",
    "char = \"C\"\n",
    "multiline_str = \"\"\"This is a multiline string with more than one line code.\"\"\"\n",
    "unicode = u\"\\u00dcnic\\u00f6de\"\n",
    "raw_str = r\"raw \\n string\"\n",
    "\n",
    "print(strings)\n",
    "print(char)\n",
    "print(multiline_str)\n",
    "print(unicode)\n",
    "print(raw_str)\n",
    "\n",
    "# here example formatted strings"
   ]
  },
  {
   "cell_type": "markdown",
   "id": "early-tumor",
   "metadata": {},
   "source": [
    "# Boolean literals\n",
    "\n",
    "A Boolean literal can have any of the two values: `True` or `False`."
   ]
  },
  {
   "cell_type": "code",
   "execution_count": 4,
   "id": "passing-radiation",
   "metadata": {},
   "outputs": [
    {
     "name": "stdout",
     "output_type": "stream",
     "text": [
      "x is True\n",
      "y is False\n",
      "a: 5\n",
      "b: 10\n"
     ]
    }
   ],
   "source": [
    "# use of boolean literals\n",
    "x = (1 == True)\n",
    "y = (1 == False)\n",
    "a = True + 4\n",
    "b = False + 10\n",
    "\n",
    "print(\"x is\", x)\n",
    "print(\"y is\", y)\n",
    "print(\"a:\", a)\n",
    "print(\"b:\", b)"
   ]
  },
  {
   "cell_type": "markdown",
   "id": "animal-character",
   "metadata": {},
   "source": [
    "# Special literals\n",
    "\n",
    "Python contains one special literal i.e. `None`. We use it to specify that the field has not been created."
   ]
  },
  {
   "cell_type": "code",
   "execution_count": 5,
   "id": "indoor-money",
   "metadata": {},
   "outputs": [
    {
     "name": "stdout",
     "output_type": "stream",
     "text": [
      "Available\n",
      "None\n"
     ]
    }
   ],
   "source": [
    "# use of special literal\n",
    "drink = \"Available\"\n",
    "food = None\n",
    "\n",
    "def menu(x):\n",
    "    if x == drink:\n",
    "        print(drink)\n",
    "    else:\n",
    "        print(food)\n",
    "\n",
    "menu(drink)\n",
    "menu(food)"
   ]
  },
  {
   "cell_type": "markdown",
   "id": "fatty-aquarium",
   "metadata": {},
   "source": [
    "# Type Casting\n",
    "\n",
    "The process of converting the value of one data type (integer, string, float, etc.) to another data type is called type conversion. Python has two types of type conversion.\n",
    "1. Implicit Type Conversion\n",
    "2. Explicit Type Conversion\n",
    "\n",
    "## Implicit Type Conversion\n",
    "\n",
    "In Implicit type conversion, Python automatically converts one data type to another data type. This process doesn't need any user involvement."
   ]
  },
  {
   "cell_type": "code",
   "execution_count": null,
   "id": "minus-japanese",
   "metadata": {},
   "outputs": [],
   "source": [
    "## Converting int to float -- Implicit\n",
    "num_int = 123\n",
    "num_flo = 1.23\n",
    "\n",
    "num_new = num_int + num_flo\n",
    "\n",
    "print(\"datatype of num_int:\",type(num_int))\n",
    "print(\"datatype of num_flo:\",type(num_flo))\n",
    "\n",
    "print(\"Value of num_new:\",num_new)\n",
    "print(\"datatype of num_new:\",type(num_new))"
   ]
  },
  {
   "cell_type": "markdown",
   "id": "suspected-typing",
   "metadata": {},
   "source": [
    "> **Note:** Python always converts smaller data types to larger data types to avoid the loss of data.\n",
    "\n",
    "Because of this there is never loss of data in implicit conversion.\n",
    "\n",
    "## Explicit Type Conversion\n",
    "\n",
    "In Explicit Type Conversion, users convert the data type of an object to required data type. We use the predefined functions like `int()`, `float()`, `str()`, etc to perform explicit type conversion.\n",
    "\n",
    "This type of conversion is also called typecasting because the user casts (changes) the data type of the objects."
   ]
  },
  {
   "cell_type": "code",
   "execution_count": null,
   "id": "environmental-albuquerque",
   "metadata": {},
   "outputs": [],
   "source": [
    "# Addition of string and integer using explicit conversion\n",
    "num_int = 123\n",
    "num_str = \"456\"\n",
    "\n",
    "print(\"Data type of num_int:\",type(num_int))\n",
    "print(\"Data type of num_str before Type Casting:\",type(num_str))\n",
    "\n",
    "num_str = int(num_str)\n",
    "print(\"Data type of num_str after Type Casting:\",type(num_str))\n",
    "\n",
    "num_sum = num_int + num_str\n",
    "\n",
    "print(\"Sum of num_int and num_str:\",num_sum)\n",
    "print(\"Data type of the sum:\",type(num_sum))"
   ]
  },
  {
   "cell_type": "markdown",
   "id": "electric-certification",
   "metadata": {},
   "source": [
    "# Key Points to Remember\n",
    "\n",
    "1. Type Conversion is the conversion of object from one data type to another data type.\n",
    "2. Implicit Type Conversion is automatically performed by the Python interpreter.\n",
    "3. Python **avoids the loss of data in Implicit** Type Conversion.\n",
    "4. Explicit Type Conversion is also called Type Casting, the data types of objects are converted using predefined functions by the user.\n",
    "5. In Type Casting, **loss of data may occur** as we enforce the object to a specific data type."
   ]
  },
  {
   "cell_type": "markdown",
   "id": "prepared-wilson",
   "metadata": {},
   "source": [
    "# Python Input, Output and Import\n",
    "\n",
    "Python provides numerous built-in functions that are readily available to us at the Python prompt.\n",
    "\n",
    "Some of the functions like `input()` and `print()` are widely used for standard input and output operations respectively. Let us see the output section first.\n",
    "\n",
    "## Python Output Using print() function\n",
    "\n",
    "We use the `print()` function to output data to the standard output device (screen).\n",
    "\n",
    "### The actual syntax of the print() function is:\n",
    "\n",
    "- `print(*objects, sep=' ', end='\\n', file=sys.stdout, flush=False)`\n",
    "\n",
    "- Here, **objects** is the value(s) to be printed.\n",
    "- The **sep** separator is used between the values. It defaults into a space character.\n",
    "- After all values are printed, **end** is printed. It defaults into a new line.\n",
    "- The **file** is the object where the values are printed and its default value is **sys.stdout** (screen)."
   ]
  },
  {
   "cell_type": "code",
   "execution_count": 6,
   "id": "painted-profession",
   "metadata": {},
   "outputs": [
    {
     "name": "stdout",
     "output_type": "stream",
     "text": [
      "1 2 3 4\n",
      "1*2*3*4\n",
      "1#2#3#4!!"
     ]
    }
   ],
   "source": [
    "print(1, 2, 3, 4)\n",
    "print(1, 2, 3, 4, sep='*')\n",
    "print(1, 2, 3, 4, sep='#', end='!!')"
   ]
  },
  {
   "cell_type": "code",
   "execution_count": 6,
   "id": "fuzzy-criterion",
   "metadata": {},
   "outputs": [],
   "source": [
    "# file output operation\n",
    "op_file = open('test.txt', 'w', encoding='utf-8')\n",
    "print(1, 2, 3, 4, sep='#', end='&', file=op_file)"
   ]
  },
  {
   "cell_type": "markdown",
   "id": "complete-excellence",
   "metadata": {},
   "source": [
    "## Output formatting\n",
    "\n",
    "Sometimes we would like to format our output to make it look attractive. This can be done by using the `str.format()` method. This method is visible to any string object."
   ]
  },
  {
   "cell_type": "code",
   "execution_count": 8,
   "id": "registered-modern",
   "metadata": {},
   "outputs": [
    {
     "name": "stdout",
     "output_type": "stream",
     "text": [
      "The value of x is 5 and y is\n"
     ]
    }
   ],
   "source": [
    "# string formatting\n",
    "x = 5; y = 15\n",
    "print('The value of x is {} and y is'.format(x,y))"
   ]
  },
  {
   "cell_type": "code",
   "execution_count": 10,
   "id": "optical-button",
   "metadata": {},
   "outputs": [
    {
     "name": "stdout",
     "output_type": "stream",
     "text": [
      "The value of x is 5 and y is 15\n"
     ]
    }
   ],
   "source": [
    "# alternative way for writing the same is\n",
    "print(f'The value of x is {x} and y is {y}')"
   ]
  },
  {
   "cell_type": "code",
   "execution_count": null,
   "id": "7945351c-711a-41b3-bf5d-5b17faa2778b",
   "metadata": {},
   "outputs": [],
   "source": []
  },
  {
   "cell_type": "markdown",
   "id": "turned-playlist",
   "metadata": {},
   "source": [
    "# Python Input\n",
    "\n",
    "Up until now, our programs were static. The value of variables was defined or hard coded into the source code.\n",
    "\n",
    "To allow flexibility, we might want to take the input from the user. In Python, we have the `input()` function to allow this. The syntax for input() is:\n",
    "\n",
    "`input([prompt])`\n",
    "\n",
    "where `prompt` is the string we wish to display on the screen. It is optional."
   ]
  },
  {
   "cell_type": "code",
   "execution_count": null,
   "id": "amazing-arcade",
   "metadata": {},
   "outputs": [],
   "source": [
    "# input example\n",
    "num = input('Enter a number: ')\n",
    "num"
   ]
  },
  {
   "cell_type": "code",
   "execution_count": 17,
   "id": "bottom-watts",
   "metadata": {},
   "outputs": [
    {
     "name": "stdin",
     "output_type": "stream",
     "text": [
      "Enter your age 12\n"
     ]
    }
   ],
   "source": [
    "a = int(input('Enter your age'))"
   ]
  },
  {
   "cell_type": "code",
   "execution_count": 18,
   "id": "promotional-serbia",
   "metadata": {},
   "outputs": [
    {
     "data": {
      "text/plain": [
       "int"
      ]
     },
     "execution_count": 18,
     "metadata": {},
     "output_type": "execute_result"
    }
   ],
   "source": [
    "type(a)"
   ]
  },
  {
   "cell_type": "markdown",
   "id": "african-painting",
   "metadata": {},
   "source": [
    "# What are operators in python?\n",
    "\n",
    "Operators are special symbols in Python that carry out arithmetic or logical computation. The value that the operator operates on is called the operand.\n",
    "\n",
    "- Arithmetic operators\n",
    "    - Arithmetic operators are used to perform mathematical operations like addition, subtraction, multiplication, etc.\n",
    "\n",
    "- Comparison operators\n",
    "    - Comparison operators are used to compare values. It returns either True or False according to the condition.\n",
    "\n",
    "- Logical operators\n",
    "- Bitwise operators\n",
    "- Assignment operators\n",
    "- Special operators\n",
    "- Identity operators\n",
    "- Membership operators\n"
   ]
  },
  {
   "cell_type": "code",
   "execution_count": null,
   "id": "enclosed-magazine",
   "metadata": {},
   "outputs": [],
   "source": [
    "==, <, <=, >, >=, !="
   ]
  },
  {
   "cell_type": "code",
   "execution_count": 13,
   "id": "tired-thriller",
   "metadata": {},
   "outputs": [],
   "source": [
    "a = 3\n",
    "b = 4\n",
    "c = 3\n",
    "\n",
    "d = 0"
   ]
  },
  {
   "cell_type": "code",
   "execution_count": null,
   "id": "contemporary-captain",
   "metadata": {},
   "outputs": [],
   "source": [
    "=, +=, -=, *=, /=, //=, **=, %="
   ]
  },
  {
   "cell_type": "code",
   "execution_count": null,
   "id": "chief-colonial",
   "metadata": {},
   "outputs": [],
   "source": []
  },
  {
   "cell_type": "code",
   "execution_count": null,
   "id": "second-communication",
   "metadata": {},
   "outputs": [],
   "source": [
    "# identity operator\n",
    "is, is not"
   ]
  },
  {
   "cell_type": "code",
   "execution_count": null,
   "id": "scenic-prior",
   "metadata": {},
   "outputs": [],
   "source": [
    "# membership operator\n",
    "in, not in"
   ]
  },
  {
   "cell_type": "code",
   "execution_count": 11,
   "id": "hybrid-geneva",
   "metadata": {},
   "outputs": [
    {
     "name": "stdin",
     "output_type": "stream",
     "text": [
      "Enter The Age 3\n"
     ]
    },
    {
     "name": "stdout",
     "output_type": "stream",
     "text": [
      "you cannot 555\n"
     ]
    }
   ],
   "source": [
    "age = int(input(\"Enter The Age\"))\n",
    "\n",
    "if age > 5:\n",
    "    another_variable = 555\n",
    "    if another_variable:\n",
    "        print('you can learn python')\n",
    "else:\n",
    "    print('you cannot', another_variable)"
   ]
  },
  {
   "cell_type": "markdown",
   "id": "b4e3de84-b0c4-4509-9162-211cb56f26af",
   "metadata": {},
   "source": [
    "## Have to start with operators"
   ]
  },
  {
   "cell_type": "code",
   "execution_count": 16,
   "id": "af20785c-5a53-401e-8dbd-601deb2ef57f",
   "metadata": {},
   "outputs": [
    {
     "name": "stdout",
     "output_type": "stream",
     "text": [
      "10\n",
      "False\n"
     ]
    }
   ],
   "source": [
    "# assignment operators\n",
    "\n",
    "# +=, -=, *=, /=, //=, **=, %=, =\n",
    "\n",
    "var_1 = 10\n",
    "var_2 = 5\n",
    "\n",
    "#var_1 += var_2\n",
    "#var_1 = var_1 + var_2\n",
    "\n",
    "# var_1 //= var_2\n",
    "\n",
    "print(var_1)\n",
    "\n",
    "print(not var_1)"
   ]
  },
  {
   "cell_type": "code",
   "execution_count": 13,
   "id": "8edfff77-d5ed-44e0-a358-554d17866fe0",
   "metadata": {},
   "outputs": [
    {
     "data": {
      "text/plain": [
       "False"
      ]
     },
     "execution_count": 13,
     "metadata": {},
     "output_type": "execute_result"
    }
   ],
   "source": [
    "var_1 is var_2"
   ]
  },
  {
   "cell_type": "code",
   "execution_count": 17,
   "id": "770ecf7c-6d8b-4f4c-a361-3a07906afab6",
   "metadata": {},
   "outputs": [
    {
     "name": "stdout",
     "output_type": "stream",
     "text": [
      "10\n"
     ]
    },
    {
     "data": {
      "text/plain": [
       "False"
      ]
     },
     "execution_count": 17,
     "metadata": {},
     "output_type": "execute_result"
    }
   ],
   "source": [
    "var_3 = var_1\n",
    "var_3 = 5\n",
    "\n",
    "print(var_1)\n",
    "\n",
    "var_1 is var_3"
   ]
  },
  {
   "cell_type": "code",
   "execution_count": 43,
   "id": "044d62ea-75d9-4903-a58f-7eb43b5d2e34",
   "metadata": {},
   "outputs": [
    {
     "name": "stdout",
     "output_type": "stream",
     "text": [
      "0\n",
      "1\n",
      "2\n",
      "3\n",
      "4\n",
      "5\n",
      "6\n",
      "7\n",
      "8\n",
      "9\n",
      "10\n",
      "11\n",
      "12\n",
      "13\n",
      "14\n",
      "15\n",
      "16\n",
      "17\n",
      "18\n",
      "19\n",
      "20\n",
      "21\n",
      "22\n"
     ]
    }
   ],
   "source": [
    "var_list_1 = [1, 2, 3, 4, 5, 'parth', 6.4]\n",
    "var_list_2 = tuple(range(1, 11))\n",
    "\n",
    "for for_i in range(23):\n",
    "    print(for_i)"
   ]
  },
  {
   "cell_type": "code",
   "execution_count": 40,
   "id": "95390edb-23cc-43e8-ad6b-6ad23766d1c1",
   "metadata": {},
   "outputs": [
    {
     "name": "stdout",
     "output_type": "stream",
     "text": [
      "1\n",
      "2\n",
      "3\n",
      "4\n"
     ]
    }
   ],
   "source": [
    "i = 1\n",
    "while i < 5:\n",
    "    print(i)\n",
    "    i += 1"
   ]
  },
  {
   "cell_type": "code",
   "execution_count": 41,
   "id": "93a9815a-48d4-4488-92d7-ef57a66d6e28",
   "metadata": {},
   "outputs": [
    {
     "data": {
      "text/plain": [
       "5"
      ]
     },
     "execution_count": 41,
     "metadata": {},
     "output_type": "execute_result"
    }
   ],
   "source": [
    "i"
   ]
  },
  {
   "cell_type": "code",
   "execution_count": 44,
   "id": "1aad38b7-7f34-451c-a27f-e165ed001282",
   "metadata": {},
   "outputs": [
    {
     "ename": "NameError",
     "evalue": "name 'for_1' is not defined",
     "output_type": "error",
     "traceback": [
      "\u001b[0;31m---------------------------------------------------------------------------\u001b[0m",
      "\u001b[0;31mNameError\u001b[0m                                 Traceback (most recent call last)",
      "\u001b[0;32m<ipython-input-44-71c6dda328f0>\u001b[0m in \u001b[0;36m<module>\u001b[0;34m\u001b[0m\n\u001b[0;32m----> 1\u001b[0;31m \u001b[0mfor_1\u001b[0m\u001b[0;34m\u001b[0m\u001b[0;34m\u001b[0m\u001b[0m\n\u001b[0m",
      "\u001b[0;31mNameError\u001b[0m: name 'for_1' is not defined"
     ]
    }
   ],
   "source": [
    "for_1"
   ]
  },
  {
   "cell_type": "code",
   "execution_count": null,
   "id": "d6c0a6e5-9e71-4e89-951d-515da64f6ce1",
   "metadata": {},
   "outputs": [],
   "source": [
    "for i in range(10):\n",
    "    for j in range(5):\n",
    "        if j == 2:\n",
    "            continue\n",
    "        print(f'inner - {j}')\n",
    "    print(f'outer - {i}')"
   ]
  },
  {
   "cell_type": "code",
   "execution_count": 8,
   "id": "1c23c0c8-0650-4bd9-b308-bc908bf9d70d",
   "metadata": {},
   "outputs": [],
   "source": [
    "def test_function():\n",
    "    pass"
   ]
  },
  {
   "cell_type": "code",
   "execution_count": 10,
   "id": "1944d06b-348c-4d85-bd68-78b08d1bc3a9",
   "metadata": {},
   "outputs": [],
   "source": [
    "for i in [1, 2]:\n",
    "    pass"
   ]
  },
  {
   "cell_type": "code",
   "execution_count": 20,
   "id": "1b50d41b-8a60-43ee-9d1b-61e092be6ecd",
   "metadata": {},
   "outputs": [
    {
     "data": {
      "text/plain": [
       "0"
      ]
     },
     "execution_count": 20,
     "metadata": {},
     "output_type": "execute_result"
    }
   ],
   "source": [
    "'hello {}'.format('paRTH').lower().count('h', 2, 4)"
   ]
  },
  {
   "cell_type": "code",
   "execution_count": 38,
   "id": "b76ebaa2-8000-4b4a-b0e7-aa086b0cfbe5",
   "metadata": {},
   "outputs": [],
   "source": [
    "name = 'hello parth'"
   ]
  },
  {
   "cell_type": "code",
   "execution_count": 22,
   "id": "16793c77-9a8b-4c6e-80c6-fdbfe578e354",
   "metadata": {},
   "outputs": [
    {
     "data": {
      "text/plain": [
       "'l'"
      ]
     },
     "execution_count": 22,
     "metadata": {},
     "output_type": "execute_result"
    }
   ],
   "source": [
    "name[2]"
   ]
  },
  {
   "cell_type": "code",
   "execution_count": 24,
   "id": "303d68fb-e811-4006-a4c3-abc85215f24a",
   "metadata": {},
   "outputs": [],
   "source": [
    "image_name = 'image_1.png'"
   ]
  },
  {
   "cell_type": "code",
   "execution_count": 26,
   "id": "c8ebd5af-34ee-4d9d-9825-d578ba0addff",
   "metadata": {},
   "outputs": [
    {
     "data": {
      "text/plain": [
       "False"
      ]
     },
     "execution_count": 26,
     "metadata": {},
     "output_type": "execute_result"
    }
   ],
   "source": [
    "image_name.startswith('rt')"
   ]
  },
  {
   "cell_type": "code",
   "execution_count": 28,
   "id": "1faa3872-33da-42ae-ba4b-23a88892f84e",
   "metadata": {},
   "outputs": [
    {
     "data": {
      "text/plain": [
       "True"
      ]
     },
     "execution_count": 28,
     "metadata": {},
     "output_type": "execute_result"
    }
   ],
   "source": [
    "image_name.endswith('.png')"
   ]
  },
  {
   "cell_type": "code",
   "execution_count": 41,
   "id": "71cbf9ce-3e43-48d7-bd6a-eaa64e220a8f",
   "metadata": {},
   "outputs": [
    {
     "data": {
      "text/plain": [
       "2"
      ]
     },
     "execution_count": 41,
     "metadata": {},
     "output_type": "execute_result"
    }
   ],
   "source": [
    "name.find('ll')"
   ]
  },
  {
   "cell_type": "code",
   "execution_count": 51,
   "id": "91f14a78-cfde-4855-971e-d929788dba9b",
   "metadata": {},
   "outputs": [
    {
     "data": {
      "text/plain": [
       "True"
      ]
     },
     "execution_count": 51,
     "metadata": {},
     "output_type": "execute_result"
    }
   ],
   "source": [
    "'hello676'.isalnum()"
   ]
  },
  {
   "cell_type": "code",
   "execution_count": 44,
   "id": "39577ba3-7939-49f2-89ce-21dbb139f578",
   "metadata": {},
   "outputs": [
    {
     "data": {
      "text/plain": [
       "'l'"
      ]
     },
     "execution_count": 44,
     "metadata": {},
     "output_type": "execute_result"
    }
   ],
   "source": [
    "name[3]"
   ]
  },
  {
   "cell_type": "code",
   "execution_count": 54,
   "id": "ef01538f-efb6-4438-a066-01a55711bf29",
   "metadata": {},
   "outputs": [],
   "source": [
    "sentence = '      I am loving pythonn      '"
   ]
  },
  {
   "cell_type": "code",
   "execution_count": 53,
   "id": "841945e6-f917-4d08-9e71-83b502ce7359",
   "metadata": {},
   "outputs": [
    {
     "data": {
      "text/plain": [
       "['I', 'am', 'loving', 'python']"
      ]
     },
     "execution_count": 53,
     "metadata": {},
     "output_type": "execute_result"
    }
   ],
   "source": [
    "sentence.split(' ')"
   ]
  },
  {
   "cell_type": "code",
   "execution_count": 55,
   "id": "d9e76a77-3c9f-4f91-9887-0f5fa184b67e",
   "metadata": {},
   "outputs": [
    {
     "data": {
      "text/plain": [
       "'I am loving pythonn'"
      ]
     },
     "execution_count": 55,
     "metadata": {},
     "output_type": "execute_result"
    }
   ],
   "source": [
    "sentence.strip()"
   ]
  },
  {
   "cell_type": "code",
   "execution_count": 56,
   "id": "8d29cfa8-55de-41a9-a0ff-bc67fba8133c",
   "metadata": {},
   "outputs": [
    {
     "data": {
      "text/plain": [
       "'      I am loving pythonn'"
      ]
     },
     "execution_count": 56,
     "metadata": {},
     "output_type": "execute_result"
    }
   ],
   "source": [
    "sentence.rstrip()"
   ]
  },
  {
   "cell_type": "code",
   "execution_count": 57,
   "id": "bb668b7e-215c-44f1-9020-f715610d5998",
   "metadata": {},
   "outputs": [
    {
     "data": {
      "text/plain": [
       "'I am loving pythonn      '"
      ]
     },
     "execution_count": 57,
     "metadata": {},
     "output_type": "execute_result"
    }
   ],
   "source": [
    "sentence.lstrip()"
   ]
  },
  {
   "cell_type": "code",
   "execution_count": 60,
   "id": "09d03e39-e5fc-40bf-b0c6-8b85b348880e",
   "metadata": {},
   "outputs": [
    {
     "data": {
      "text/plain": [
       "'I am loving c++'"
      ]
     },
     "execution_count": 60,
     "metadata": {},
     "output_type": "execute_result"
    }
   ],
   "source": [
    "sentence.replace('pythonn', 'c++').strip()"
   ]
  },
  {
   "cell_type": "markdown",
   "id": "bc6dd5d8-05f7-47bf-9f64-392a3a5803e4",
   "metadata": {},
   "source": [
    "# Questions\n",
    "\n",
    "A shop will give a discount of 10% if the cost of purchased quantity is more than 1000.\n",
    "ask user for quantity\n",
    "suppose one unit will cost 100.\n",
    "judge and print total cost for the user."
   ]
  },
  {
   "cell_type": "code",
   "execution_count": 1,
   "id": "80e20da8-eccb-403c-983d-54fc30629170",
   "metadata": {},
   "outputs": [],
   "source": [
    "a_list = []\n",
    "b_list = list()"
   ]
  },
  {
   "cell_type": "code",
   "execution_count": 2,
   "id": "808be501-815e-4108-b7ef-e85e911efc61",
   "metadata": {},
   "outputs": [],
   "source": [
    "a_list = [1, 2, 3, 4, 6, 7]"
   ]
  },
  {
   "cell_type": "code",
   "execution_count": 3,
   "id": "feff7459-458f-4af4-8384-51e3b18fc3d7",
   "metadata": {},
   "outputs": [],
   "source": [
    "b_list = [7, 3, 5]"
   ]
  },
  {
   "cell_type": "code",
   "execution_count": 4,
   "id": "a51991e4-015d-4430-a929-def2362f1bcb",
   "metadata": {},
   "outputs": [
    {
     "data": {
      "text/plain": [
       "[1, 2, 3, 4, 6, 7]"
      ]
     },
     "execution_count": 4,
     "metadata": {},
     "output_type": "execute_result"
    }
   ],
   "source": [
    "a_list"
   ]
  },
  {
   "cell_type": "code",
   "execution_count": 5,
   "id": "a69494c0-98b4-4217-9dbf-c0a13ec21117",
   "metadata": {},
   "outputs": [],
   "source": [
    "a_list.append(6)"
   ]
  },
  {
   "cell_type": "code",
   "execution_count": 6,
   "id": "be1ae53d-856c-4d69-9923-e6019df5106a",
   "metadata": {},
   "outputs": [
    {
     "data": {
      "text/plain": [
       "[1, 2, 3, 4, 6, 7, 6]"
      ]
     },
     "execution_count": 6,
     "metadata": {},
     "output_type": "execute_result"
    }
   ],
   "source": [
    "a_list"
   ]
  },
  {
   "cell_type": "code",
   "execution_count": 7,
   "id": "aaae3d6b-a20c-4310-a80e-f056e7cdfe3f",
   "metadata": {},
   "outputs": [],
   "source": [
    "a_list.append(['append', 'str'])"
   ]
  },
  {
   "cell_type": "code",
   "execution_count": 8,
   "id": "6b4ce516-96eb-4d93-934d-767d06921543",
   "metadata": {},
   "outputs": [
    {
     "data": {
      "text/plain": [
       "[1, 2, 3, 4, 6, 7, 6, ['append', 'str']]"
      ]
     },
     "execution_count": 8,
     "metadata": {},
     "output_type": "execute_result"
    }
   ],
   "source": [
    "a_list"
   ]
  },
  {
   "cell_type": "code",
   "execution_count": 10,
   "id": "ad8d6751-15bf-437b-8b73-274adf69f1ce",
   "metadata": {},
   "outputs": [
    {
     "data": {
      "text/plain": [
       "'append'"
      ]
     },
     "execution_count": 10,
     "metadata": {},
     "output_type": "execute_result"
    }
   ],
   "source": [
    "a_list[7][0]"
   ]
  },
  {
   "cell_type": "code",
   "execution_count": 11,
   "id": "476aba2f-ea64-4321-a40e-6be7ba159709",
   "metadata": {},
   "outputs": [
    {
     "data": {
      "text/plain": [
       "[1, 2, 3, 4, 6, 7, 6, ['append', 'str']]"
      ]
     },
     "execution_count": 11,
     "metadata": {},
     "output_type": "execute_result"
    }
   ],
   "source": [
    "a_list"
   ]
  },
  {
   "cell_type": "code",
   "execution_count": 12,
   "id": "7b316b20-6da7-4676-b992-df1dbaea4ffe",
   "metadata": {},
   "outputs": [],
   "source": [
    "n_dim = [\n",
    "    [[1, 2, 3],\n",
    "    [4, 5, 6]],\n",
    "    [[7, 8, 9]],\n",
    "]"
   ]
  },
  {
   "cell_type": "code",
   "execution_count": 13,
   "id": "4acbd969-28ae-42d1-b2cd-b72719f45c95",
   "metadata": {},
   "outputs": [
    {
     "data": {
      "text/plain": [
       "[[[1, 2, 3], [4, 5, 6]], [[7, 8, 9]]]"
      ]
     },
     "execution_count": 13,
     "metadata": {},
     "output_type": "execute_result"
    }
   ],
   "source": [
    "n_dim"
   ]
  },
  {
   "cell_type": "code",
   "execution_count": 14,
   "id": "fd9f0bac-a1bd-425e-ac3d-2ea9b65cb38b",
   "metadata": {},
   "outputs": [
    {
     "data": {
      "text/plain": [
       "5"
      ]
     },
     "execution_count": 14,
     "metadata": {},
     "output_type": "execute_result"
    }
   ],
   "source": [
    "n_dim[0][1][1]"
   ]
  },
  {
   "cell_type": "code",
   "execution_count": 16,
   "id": "32ae8076-c808-4203-891a-448211d835c5",
   "metadata": {},
   "outputs": [
    {
     "data": {
      "text/plain": [
       "list"
      ]
     },
     "execution_count": 16,
     "metadata": {},
     "output_type": "execute_result"
    }
   ],
   "source": [
    "type(n_dim)"
   ]
  },
  {
   "cell_type": "code",
   "execution_count": 17,
   "id": "cc32947c-2afc-448b-95c6-8445ced2122c",
   "metadata": {},
   "outputs": [
    {
     "data": {
      "text/plain": [
       "2"
      ]
     },
     "execution_count": 17,
     "metadata": {},
     "output_type": "execute_result"
    }
   ],
   "source": [
    "a_list.count(6)"
   ]
  },
  {
   "cell_type": "code",
   "execution_count": 18,
   "id": "b5a5116e-5789-4333-bf0b-ab23393f1e13",
   "metadata": {},
   "outputs": [],
   "source": [
    "a_list.insert(2, 'value')"
   ]
  },
  {
   "cell_type": "code",
   "execution_count": 19,
   "id": "2b62031e-2e50-4375-ba17-9d29a7e8cf83",
   "metadata": {},
   "outputs": [
    {
     "data": {
      "text/plain": [
       "[1, 2, 'value', 3, 4, 6, 7, 6, ['append', 'str']]"
      ]
     },
     "execution_count": 19,
     "metadata": {},
     "output_type": "execute_result"
    }
   ],
   "source": [
    "a_list"
   ]
  },
  {
   "cell_type": "code",
   "execution_count": 20,
   "id": "e0f8f253-c4ee-40f1-834d-6803043cec60",
   "metadata": {},
   "outputs": [
    {
     "data": {
      "text/plain": [
       "'value'"
      ]
     },
     "execution_count": 20,
     "metadata": {},
     "output_type": "execute_result"
    }
   ],
   "source": [
    "a_list.pop(2)"
   ]
  },
  {
   "cell_type": "code",
   "execution_count": 21,
   "id": "7e605c3c-d4ef-4d52-add5-392a71a8959d",
   "metadata": {},
   "outputs": [
    {
     "data": {
      "text/plain": [
       "[1, 2, 3, 4, 6, 7, 6, ['append', 'str']]"
      ]
     },
     "execution_count": 21,
     "metadata": {},
     "output_type": "execute_result"
    }
   ],
   "source": [
    "a_list"
   ]
  },
  {
   "cell_type": "code",
   "execution_count": 22,
   "id": "a1354adc-03f2-4bea-8a2f-930eac497842",
   "metadata": {},
   "outputs": [
    {
     "data": {
      "text/plain": [
       "['append', 'str']"
      ]
     },
     "execution_count": 22,
     "metadata": {},
     "output_type": "execute_result"
    }
   ],
   "source": [
    "a_list.pop(-1)"
   ]
  },
  {
   "cell_type": "code",
   "execution_count": 23,
   "id": "988c7c79-fdae-4740-953c-fff8e4036b70",
   "metadata": {},
   "outputs": [
    {
     "data": {
      "text/plain": [
       "[1, 2, 3, 4, 6, 7, 6]"
      ]
     },
     "execution_count": 23,
     "metadata": {},
     "output_type": "execute_result"
    }
   ],
   "source": [
    "a_list"
   ]
  },
  {
   "cell_type": "code",
   "execution_count": 26,
   "id": "ec01ddb1-a1d1-460f-be70-c2d4a268928c",
   "metadata": {},
   "outputs": [],
   "source": [
    "a_list.sort(reverse=True)"
   ]
  },
  {
   "cell_type": "code",
   "execution_count": 27,
   "id": "10182474-2f86-4085-bf82-fa1d323c5a38",
   "metadata": {},
   "outputs": [
    {
     "data": {
      "text/plain": [
       "[7, 6, 6, 4, 3, 2, 1]"
      ]
     },
     "execution_count": 27,
     "metadata": {},
     "output_type": "execute_result"
    }
   ],
   "source": [
    "a_list"
   ]
  },
  {
   "cell_type": "code",
   "execution_count": 28,
   "id": "31e5dd55-fc92-4681-9f01-bb6f54daff54",
   "metadata": {},
   "outputs": [],
   "source": [
    "a_list.remove(6)"
   ]
  },
  {
   "cell_type": "code",
   "execution_count": 29,
   "id": "bf5ceb1f-88fc-48d1-aad0-9d0dfade2add",
   "metadata": {},
   "outputs": [
    {
     "data": {
      "text/plain": [
       "[7, 6, 4, 3, 2, 1]"
      ]
     },
     "execution_count": 29,
     "metadata": {},
     "output_type": "execute_result"
    }
   ],
   "source": [
    "a_list"
   ]
  },
  {
   "cell_type": "code",
   "execution_count": 43,
   "id": "e6bfb3aa-8403-4153-87b1-cddd276c0dd6",
   "metadata": {},
   "outputs": [],
   "source": [
    "b_list.append(4)"
   ]
  },
  {
   "cell_type": "code",
   "execution_count": 33,
   "id": "366f7cca-9bb2-4188-b955-bff689e72f17",
   "metadata": {},
   "outputs": [
    {
     "data": {
      "text/plain": [
       "[7, 6, 4, 3, 2, 1, 7, 3, 5, 7, 6, 4, 3, 2, 1, 7, 3, 5]"
      ]
     },
     "execution_count": 33,
     "metadata": {},
     "output_type": "execute_result"
    }
   ],
   "source": [
    "(a_list + b_list) * 2"
   ]
  },
  {
   "cell_type": "code",
   "execution_count": 40,
   "id": "643278b2-37c6-4994-930f-cf2b9da55392",
   "metadata": {},
   "outputs": [],
   "source": [
    "a_tuple = ()\n",
    "b_tuple = tuple()"
   ]
  },
  {
   "cell_type": "code",
   "execution_count": 39,
   "id": "68992071-83ba-4d0a-9ce3-8275c639ce39",
   "metadata": {},
   "outputs": [],
   "source": [
    "del tuple"
   ]
  },
  {
   "cell_type": "code",
   "execution_count": 46,
   "id": "2692f81d-83ab-4873-b146-66f09814097b",
   "metadata": {},
   "outputs": [
    {
     "ename": "NameError",
     "evalue": "name 'b_list' is not defined",
     "output_type": "error",
     "traceback": [
      "\u001b[0;31m---------------------------------------------------------------------------\u001b[0m",
      "\u001b[0;31mNameError\u001b[0m                                 Traceback (most recent call last)",
      "\u001b[0;32m<ipython-input-46-ea1d77a9ffbc>\u001b[0m in \u001b[0;36m<module>\u001b[0;34m\u001b[0m\n\u001b[0;32m----> 1\u001b[0;31m \u001b[0mb_list\u001b[0m\u001b[0;34m\u001b[0m\u001b[0;34m\u001b[0m\u001b[0m\n\u001b[0m",
      "\u001b[0;31mNameError\u001b[0m: name 'b_list' is not defined"
     ]
    }
   ],
   "source": [
    "b_list"
   ]
  },
  {
   "cell_type": "code",
   "execution_count": 45,
   "id": "31374168-6481-4abe-84ab-f95ba72fa7cc",
   "metadata": {},
   "outputs": [],
   "source": [
    "del b_list"
   ]
  },
  {
   "cell_type": "code",
   "execution_count": 48,
   "id": "f018b067-78b1-423d-b4b6-3301cfe6f5f6",
   "metadata": {},
   "outputs": [],
   "source": [
    "a_list.clear()"
   ]
  },
  {
   "cell_type": "code",
   "execution_count": 49,
   "id": "d63db717-da59-47ed-8327-9c375c7267d1",
   "metadata": {},
   "outputs": [
    {
     "data": {
      "text/plain": [
       "[]"
      ]
     },
     "execution_count": 49,
     "metadata": {},
     "output_type": "execute_result"
    }
   ],
   "source": [
    "a_list"
   ]
  },
  {
   "cell_type": "code",
   "execution_count": 51,
   "id": "ea82be70-16c9-47b6-a0e6-89503de6d648",
   "metadata": {},
   "outputs": [],
   "source": [
    "a_tuple = (1, 2, 4, 5, 7, 8, 8, 8, 8)"
   ]
  },
  {
   "cell_type": "code",
   "execution_count": 53,
   "id": "4385fa18-2aed-40db-86bd-7e81f3a757eb",
   "metadata": {},
   "outputs": [
    {
     "data": {
      "text/plain": [
       "4"
      ]
     },
     "execution_count": 53,
     "metadata": {},
     "output_type": "execute_result"
    }
   ],
   "source": [
    "a_tuple.count(8)"
   ]
  },
  {
   "cell_type": "code",
   "execution_count": 56,
   "id": "dc9796bc-9216-4388-8fd0-e50db214dbf9",
   "metadata": {},
   "outputs": [
    {
     "data": {
      "text/plain": [
       "3"
      ]
     },
     "execution_count": 56,
     "metadata": {},
     "output_type": "execute_result"
    }
   ],
   "source": [
    "a_tuple.index(5)"
   ]
  },
  {
   "cell_type": "code",
   "execution_count": 61,
   "id": "3f54c156-7b25-412e-8908-3b30792296b7",
   "metadata": {},
   "outputs": [],
   "source": [
    "num = (0,)"
   ]
  },
  {
   "cell_type": "code",
   "execution_count": 62,
   "id": "2e479e57-8cb0-4633-a161-db05fce7fdca",
   "metadata": {},
   "outputs": [
    {
     "data": {
      "text/plain": [
       "tuple"
      ]
     },
     "execution_count": 62,
     "metadata": {},
     "output_type": "execute_result"
    }
   ],
   "source": [
    "type(num)"
   ]
  },
  {
   "cell_type": "code",
   "execution_count": 59,
   "id": "676c212e-221f-426e-a57b-6a1ab2a78d1e",
   "metadata": {},
   "outputs": [],
   "source": [
    "li = [1]"
   ]
  },
  {
   "cell_type": "code",
   "execution_count": 60,
   "id": "d75e5953-7031-4d79-b936-ab7e2703a6cd",
   "metadata": {},
   "outputs": [
    {
     "data": {
      "text/plain": [
       "list"
      ]
     },
     "execution_count": 60,
     "metadata": {},
     "output_type": "execute_result"
    }
   ],
   "source": [
    "type(li)"
   ]
  },
  {
   "cell_type": "code",
   "execution_count": 70,
   "id": "64089703-df5d-4fca-ad58-16963b70dfb0",
   "metadata": {},
   "outputs": [],
   "source": [
    "mu = 0"
   ]
  },
  {
   "cell_type": "code",
   "execution_count": 71,
   "id": "9bddf1ac-2fe7-488d-8aad-b9c66837f7fd",
   "metadata": {},
   "outputs": [
    {
     "data": {
      "text/plain": [
       "int"
      ]
     },
     "execution_count": 71,
     "metadata": {},
     "output_type": "execute_result"
    }
   ],
   "source": [
    "type(mu)"
   ]
  },
  {
   "cell_type": "code",
   "execution_count": 72,
   "id": "fe6b3e48-2ab9-4bf4-a937-a8e10ac3c375",
   "metadata": {},
   "outputs": [
    {
     "ename": "TypeError",
     "evalue": "'int' object is not iterable",
     "output_type": "error",
     "traceback": [
      "\u001b[0;31m---------------------------------------------------------------------------\u001b[0m",
      "\u001b[0;31mTypeError\u001b[0m                                 Traceback (most recent call last)",
      "\u001b[0;32m<ipython-input-72-780fbc03c255>\u001b[0m in \u001b[0;36m<module>\u001b[0;34m\u001b[0m\n\u001b[0;32m----> 1\u001b[0;31m \u001b[0mtuple\u001b[0m\u001b[0;34m(\u001b[0m\u001b[0mmu\u001b[0m\u001b[0;34m)\u001b[0m\u001b[0;34m\u001b[0m\u001b[0;34m\u001b[0m\u001b[0m\n\u001b[0m",
      "\u001b[0;31mTypeError\u001b[0m: 'int' object is not iterable"
     ]
    }
   ],
   "source": [
    "tuple(mu)"
   ]
  },
  {
   "cell_type": "code",
   "execution_count": 1,
   "id": "3c0357c7-6f67-498c-8576-23f45e3a9215",
   "metadata": {},
   "outputs": [],
   "source": [
    "a_dict = {}\n",
    "b_dict = dict()"
   ]
  },
  {
   "cell_type": "code",
   "execution_count": 6,
   "id": "1865e393-31ed-4765-bba4-ff7a8f1ca95f",
   "metadata": {},
   "outputs": [],
   "source": [
    "a_dict = {\n",
    "    1: 'parth',\n",
    "    2: 'value'\n",
    "}"
   ]
  },
  {
   "cell_type": "code",
   "execution_count": 7,
   "id": "ced31c9d-6686-468d-bce5-bb2629509215",
   "metadata": {},
   "outputs": [
    {
     "data": {
      "text/plain": [
       "{1: 'parth', 2: 'value'}"
      ]
     },
     "execution_count": 7,
     "metadata": {},
     "output_type": "execute_result"
    }
   ],
   "source": [
    "a_dict"
   ]
  },
  {
   "cell_type": "code",
   "execution_count": 10,
   "id": "a2242387-f61c-4bc4-9df6-145039c93e73",
   "metadata": {},
   "outputs": [],
   "source": [
    "a_dict[3] = 'key 3, value using'"
   ]
  },
  {
   "cell_type": "code",
   "execution_count": 13,
   "id": "78a4c2ec-bf25-43c6-935b-b952b8a1a841",
   "metadata": {},
   "outputs": [
    {
     "data": {
      "text/plain": [
       "{1: 'parth',\n",
       " 2: 'value',\n",
       " 3: 'key 3, value using',\n",
       " 9: ['this', 'is', 'a', 'list']}"
      ]
     },
     "execution_count": 13,
     "metadata": {},
     "output_type": "execute_result"
    }
   ],
   "source": [
    "a_dict"
   ]
  },
  {
   "cell_type": "code",
   "execution_count": 12,
   "id": "5ff2705b-132f-4353-863a-487b709c952c",
   "metadata": {},
   "outputs": [],
   "source": [
    "a_dict[9] = ['this', 'is', 'a', 'list'] "
   ]
  },
  {
   "cell_type": "code",
   "execution_count": 16,
   "id": "a69f8cf9-0d87-47f7-b341-41a5abf16541",
   "metadata": {},
   "outputs": [
    {
     "name": "stdout",
     "output_type": "stream",
     "text": [
      "['this', 'is', 'a', 'list'] parth\n"
     ]
    }
   ],
   "source": [
    "print(a_dict[9], a_dict[1])"
   ]
  },
  {
   "cell_type": "code",
   "execution_count": null,
   "id": "ceb07183-9da6-41f9-9eca-3cfeaffe6145",
   "metadata": {},
   "outputs": [],
   "source": [
    "for k, v in a_dict.items():\n",
    "    print(f'key - {key} - value {v}')"
   ]
  },
  {
   "cell_type": "code",
   "execution_count": 18,
   "id": "d191965c-07c8-450c-b22f-b3e677cd7f04",
   "metadata": {},
   "outputs": [
    {
     "ename": "NameError",
     "evalue": "name 'key' is not defined",
     "output_type": "error",
     "traceback": [
      "\u001b[0;31m---------------------------------------------------------------------------\u001b[0m",
      "\u001b[0;31mNameError\u001b[0m                                 Traceback (most recent call last)",
      "\u001b[0;32m<ipython-input-18-704465e2db7f>\u001b[0m in \u001b[0;36m<module>\u001b[0;34m\u001b[0m\n\u001b[1;32m      1\u001b[0m \u001b[0;32mfor\u001b[0m \u001b[0mk\u001b[0m \u001b[0;32min\u001b[0m \u001b[0ma_dict\u001b[0m\u001b[0;34m:\u001b[0m\u001b[0;34m\u001b[0m\u001b[0;34m\u001b[0m\u001b[0m\n\u001b[0;32m----> 2\u001b[0;31m     \u001b[0mprint\u001b[0m\u001b[0;34m(\u001b[0m\u001b[0;34mf'key - {key}'\u001b[0m\u001b[0;34m)\u001b[0m\u001b[0;34m\u001b[0m\u001b[0;34m\u001b[0m\u001b[0m\n\u001b[0m",
      "\u001b[0;31mNameError\u001b[0m: name 'key' is not defined"
     ]
    }
   ],
   "source": [
    "for k in a_dict:\n",
    "    print(f'key - {k}')"
   ]
  },
  {
   "cell_type": "code",
   "execution_count": null,
   "id": "1976b88b-51fd-43b3-bc24-473e247fc57a",
   "metadata": {},
   "outputs": [],
   "source": []
  },
  {
   "cell_type": "code",
   "execution_count": null,
   "id": "d2f6994c-84f4-4e93-81f8-beb3106f5405",
   "metadata": {},
   "outputs": [],
   "source": []
  },
  {
   "cell_type": "code",
   "execution_count": null,
   "id": "dfe75638-7735-4f1a-9e84-215c0360f457",
   "metadata": {},
   "outputs": [],
   "source": []
  },
  {
   "cell_type": "code",
   "execution_count": null,
   "id": "4dc84033-be82-48a4-9995-75b695a49900",
   "metadata": {},
   "outputs": [],
   "source": []
  }
 ],
 "metadata": {
  "kernelspec": {
   "display_name": "Python 3",
   "language": "python",
   "name": "python3"
  },
  "language_info": {
   "codemirror_mode": {
    "name": "ipython",
    "version": 3
   },
   "file_extension": ".py",
   "mimetype": "text/x-python",
   "name": "python",
   "nbconvert_exporter": "python",
   "pygments_lexer": "ipython3",
   "version": "3.8.5"
  }
 },
 "nbformat": 4,
 "nbformat_minor": 5
}

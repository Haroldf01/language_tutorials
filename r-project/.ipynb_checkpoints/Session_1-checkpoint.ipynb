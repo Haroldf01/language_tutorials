{
 "cells": [
  {
   "cell_type": "markdown",
   "metadata": {},
   "source": [
    "# Introduction to R Programming\n",
    "\n",
    "R is a programming language and software environment for statistical analysis, graphics representation and reporting.\n",
    "\n",
    "- The core of R is an interpreted computer language which allows branching and looping as well as modular programming using functions.\n",
    "- R allows integration with the procedures written in the C, C++, .Net, Python or FORTRAN languages for efficiency.\n",
    "\n",
    "R is freely available under the GNU General Public License, and pre-compiled binary versions are provided for various operating systems like Linux, Windows and Mac."
   ]
  },
  {
   "cell_type": "markdown",
   "metadata": {},
   "source": [
    "# Evolution of R\n",
    "\n",
    "R was initially written by Ross Ihaka and Robert Gentleman at the Department of Statistics of the University of Auckland in Auckland, New Zealand. R made its first appearance in 1993.\n",
    "\n",
    "- A large group of individuals has contributed to R by sending code and bug reports.\n",
    "- Since mid-1997 there has been a core group (the \"R Core Team\") who can modify the R source code archive.\n",
    "\n",
    "# Features of R\n",
    "\n",
    "As stated earlier, R is a programming language and software environment for statistical analysis, graphics representation and reporting. The following are the important features of R −\n",
    "\n",
    "- R is a well-developed, simple and effective programming language which includes conditionals, loops, user defined recursive functions and input and output facilities.\n",
    "- R has an effective data handling and storage facility,\n",
    "- R provides a suite of operators for calculations on arrays, lists, vectors and matrices.\n",
    "- R provides a large, coherent and integrated collection of tools for data analysis.\n",
    "- R provides graphical facilities for data analysis and display either directly at the computer or printing at the papers.\n",
    "\n",
    "As a conclusion, R is world’s most widely used statistics programming language.\n",
    "\n",
    "**Note**\n",
    "After installing R on your respected platforms; To install _packages in R_ use the following command in R prompt.\n",
    "\n",
    "`install.packages(\"package_name\")`"
   ]
  },
  {
   "cell_type": "markdown",
   "metadata": {},
   "source": [
    "As a convention, we will start learning R programming by writing a \"Hello, World!\" program.\n",
    "Depending on the needs, you can program either at R command prompt or you can use an R script file to write your program. Let's check both one by one.\n",
    "\n",
    "# R Command Prompt\n",
    "\n",
    "Once you have R environment setup, then it’s easy to start your R command prompt by just typing the following command at your command prompt −\n",
    "\n",
    "`R`\n",
    "\n",
    "This will launch R interpreter and you will get a prompt > where you can start typing your program as follows −\n"
   ]
  },
  {
   "cell_type": "code",
   "execution_count": null,
   "metadata": {},
   "outputs": [],
   "source": [
    "myString <- \"Hello WOrld!\"\n",
    "print(myString)"
   ]
  },
  {
   "cell_type": "markdown",
   "metadata": {},
   "source": [
    "Here first statement defines a string variable myString, where we assign a string \"Hello, World!\" and then next statement print() is being used to print the value stored in variable myString.\n",
    "\n",
    "# R Script File\n",
    "\n",
    "Usually, you will do your programming by writing your programs in script files and then you execute those scripts at your command prompt with the help of R interpreter called **Rscript**.\n",
    "\n",
    "So let's start with writing following code in a text file called test.R as under\n",
    "\n",
    "> After writing code follow the below procedure.\n",
    "\n",
    "Save the above code in a file test.R and execute it at Linux command prompt as given below. Even if you are using Windows or other system, syntax will remain same.\n",
    "\n",
    "`Rscript test.R`"
   ]
  },
  {
   "cell_type": "markdown",
   "metadata": {},
   "source": [
    "# Comments\n",
    "\n",
    "Comments are like helping text in your R program and they are ignored by the interpreter while executing your actual program. Single comment is written using # in the beginning of the statement as follows −\n",
    "\n",
    "`# My first program in R Programming`\n",
    "\n",
    "R **does not support multi-line comments** but you can perform a trick which is something as follows −"
   ]
  },
  {
   "cell_type": "code",
   "execution_count": null,
   "metadata": {},
   "outputs": [],
   "source": [
    "if(FALSE) {\n",
    "   \"This is a demo for multi-line comments and it should be put inside either a \n",
    "      single OR double quote\"\n",
    "}\n",
    "\n",
    "myString <- \"Hello, World!\"\n",
    "print ( myString)"
   ]
  },
  {
   "cell_type": "markdown",
   "metadata": {},
   "source": [
    "**Though above comments will be executed by R interpreter, they will not interfere with your actual program.** You should put such comments inside, either single or double quote."
   ]
  },
  {
   "cell_type": "markdown",
   "metadata": {},
   "source": [
    "# Data Types\n",
    "\n",
    "Generally, while doing programming in any programming language, you need to use various variables to store various information. Variables are nothing but reserved memory locations to store values.\n",
    "\n",
    "> This means that, when you create a variable you reserve some space in memory.\n",
    "\n",
    "You may like to store information of various data types like character, wide character, integer, floating point, double floating point, Boolean etc. Based on the data type of a variable, the operating system allocates memory and decides what can be stored in the reserved memory.\n",
    "\n",
    "- In contrast to other programming languages like C and java in R, the variables are not declared as some data type.\n",
    "- The **variables are assigned with R-Objects** and the **data type of the R-object becomes the data type of the variable**.\n",
    "- There are many types of R-objects. The frequently used ones are −\n",
    "  - Vectors\n",
    "  - Lists\n",
    "  - Matrices\n",
    "  - Arrays\n",
    "  - Factors\n",
    "  - Data Frames\n",
    "  \n",
    "The simplest of these objects is the **vector object** and there are six data types of these atomic vectors, also termed as six classes of vectors. The other R-Objects are built upon the atomic vectors.\n",
    "\n",
    "<table style='font-size: 16px'>\n",
    "    <tr>\n",
    "        <th>Data Type</th>\n",
    "        <th>Example</th>\n",
    "    </tr>\n",
    "    <tr>\n",
    "        <td>Logical</td>\n",
    "        <td>True, False</td>\n",
    "    </tr>\n",
    "    <tr>\n",
    "        <td>Numeric</td>\n",
    "        <td>12.5, 5, 999</td>\n",
    "    </tr>\n",
    "    <tr>\n",
    "        <td>Integer</td>\n",
    "        <td>2L, 34L, 0L</td>\n",
    "    </tr>\n",
    "    <tr>\n",
    "        <td>Complex</td>\n",
    "        <td>3 + 2i</td>\n",
    "    </tr>\n",
    "    <tr>\n",
    "        <td>Character</td>\n",
    "        <td>'a', \"good\", \"True\", '23.4'</td>\n",
    "    </tr>\n",
    "    <tr>\n",
    "        <td>Raw</td>\n",
    "        <td>\"Hello\" is stored as 48 65 6c 6c 6f</td>\n",
    "    </tr>\n",
    "</table>"
   ]
  },
  {
   "cell_type": "code",
   "execution_count": null,
   "metadata": {},
   "outputs": [],
   "source": [
    "# R-Objects\n",
    "\n",
    "a <- TRUE\n",
    "print(class(a))\n",
    "\n",
    "b <- 23.5\n",
    "print(class(b))\n",
    "\n",
    "c <- 2L\n",
    "print(class(c))\n",
    "\n",
    "d <- 2+5i\n",
    "print(class(d))\n",
    "\n",
    "e <- \"Hello World\"\n",
    "print(class(e))\n",
    "\n",
    "f <- charToRaw(\"Hello\")\n",
    "print(class(f))"
   ]
  },
  {
   "cell_type": "markdown",
   "metadata": {},
   "source": [
    "- In R programming, the very basic data types are the R-objects called vectors which hold elements of different classes as shown above.\n",
    "- **Please note** in R the number of classes is not confined to only the above six types.\n",
    "- **_For example,_** we can use many atomic vectors and create an array whose class will become array.\n",
    "\n",
    "# Vector\n",
    "\n",
    "When you want to **create vector with more than one element**, you should use `c()` function which means to **combine the elements into a vector.**\n"
   ]
  },
  {
   "cell_type": "code",
   "execution_count": null,
   "metadata": {},
   "outputs": [],
   "source": [
    "# Create a vector\n",
    "apple <- c('red', 'green', 'yellow')\n",
    "print(apple)\n",
    "\n",
    "# Get the class of the vector.\n",
    "print(class(apple))"
   ]
  },
  {
   "cell_type": "markdown",
   "metadata": {},
   "source": [
    "# List\n",
    "\n",
    "A list is an R-object which can **contain many different types of elements inside it** like _vectors,_ _functions_ and _even another list_ inside it.\n",
    "\n"
   ]
  },
  {
   "cell_type": "code",
   "execution_count": null,
   "metadata": {},
   "outputs": [],
   "source": [
    "# Create a list\n",
    "list_1 <- list(c(1,2,3), 21.3, sin)\n",
    "\n",
    "print(list_1)"
   ]
  },
  {
   "cell_type": "markdown",
   "metadata": {},
   "source": [
    "# Matrices\n",
    "\n",
    "A matrix is a 2-dimensional array that has m number of rows and n number of columns. In other words, matrix is a combination of two or more vectors with the same data type.\n",
    "\n",
    "It can be created using a vector input to the matrix function.\n",
    "\n",
    "**Note -** It is possible to create more than two dimensions arrays with R.\n",
    "\n",
    "We can create a matrix with the function `matrix().` This function takes three arguments:\n",
    "`matrix(data, nrow, ncol, byrow = FALSE)`\n",
    "\n",
    "**Arguments:** \n",
    "\n",
    "- **data:** The collection of elements that R will arrange into the rows and columns of the matrix.\n",
    "- **nrow:** Number of rows \n",
    "- **ncol:** Number of columns \n",
    "- **byrow:** The rows are filled from the left to the right. We use `byrow = FALSE` (default values), if we want the matrix to be filled by the columns i.e. the values are filled top to bottom.\n",
    "\n",
    "![Matrix](./images/matrix.png)"
   ]
  },
  {
   "cell_type": "code",
   "execution_count": null,
   "metadata": {},
   "outputs": [],
   "source": [
    "# Create a matrix\n",
    "\n",
    "matrix_1 = matrix(c('a','a','b','c','b','a'), nrow = 2, ncol = 3, byrow = TRUE)\n",
    "print(matrix_1)"
   ]
  },
  {
   "cell_type": "markdown",
   "metadata": {},
   "source": [
    "# Array\n",
    "\n",
    "- While matrices are confined to two dimensions, arrays can be of any number of dimensions.\n",
    "- **The array function takes a dim attribute which creates the required number of dimension.**"
   ]
  },
  {
   "cell_type": "code",
   "execution_count": null,
   "metadata": {},
   "outputs": [],
   "source": [
    "# Create an array\n",
    "\n",
    "a <- array(c('green', 'yellow'), dim = c(3,3,2))\n",
    "print(a)"
   ]
  },
  {
   "cell_type": "markdown",
   "metadata": {},
   "source": [
    "# Factors\n",
    "\n",
    "- Factors are the r-objects which are created using a vector.\n",
    "- It stores the **vector along with the distinct values of the elements in the vector as labels.**\n",
    "- The <u>labels are always character</u> irrespective of whether it is numeric or character or Boolean etc. in the input vector.\n",
    "- They are useful in <u>statistical modeling</u>.\n",
    "\n",
    "- Factors are created using the `factor()` function.\n",
    "- The `nlevels` functions gives the count of levels."
   ]
  },
  {
   "cell_type": "code",
   "execution_count": null,
   "metadata": {},
   "outputs": [],
   "source": [
    "# Create a vector\n",
    "apple_colors <- c('green', 'green', 'yellow', 'red', 'red', 'red', 'green')\n",
    "\n",
    "# Create a factor object\n",
    "factor_apple <- factor(apple_colors)\n",
    "\n",
    "# Print the factor\n",
    "print(factor_apple)\n",
    "print(nlevels(factor_apple))"
   ]
  },
  {
   "cell_type": "markdown",
   "metadata": {},
   "source": [
    "# Data Frames\n",
    "\n",
    "- **Data frames are tabular data objects**.\n",
    "- Unlike a matrix **in data frame each column can contain different modes of data**.\n",
    "- The first column can be numeric while the second column can be character and third column can be logical.\n",
    "- It is a <u>list of vectors</u> of equal length."
   ]
  },
  {
   "cell_type": "code",
   "execution_count": null,
   "metadata": {},
   "outputs": [],
   "source": [
    "# Create a data frame\n",
    "\n",
    "BMI <- data.frame(\n",
    "\tgender = c('Male', 'Female', 'Male'),\n",
    "\theight = c(152, 171.1, 165),\n",
    "\tweight = c(81, 55, 65),\n",
    "\tAge = c(25, 32,45)\n",
    ")\n",
    "\n",
    "print(BMI)"
   ]
  },
  {
   "cell_type": "markdown",
   "metadata": {},
   "source": [
    "# Variables\n",
    "\n",
    "A variable provides us with named storage that our programs can manipulate. <u>A variable in R can store an atomic vector, group of atomic vectors or a combination of many Robjects.</u> A valid variable name consists of *letters*, *numbers* and *the dot* or *underline* characters. **The variable name starts with a letter or the dot not followed by a number.**\n",
    "\n",
    "<table style='font-size: 16px'>\n",
    "    <tr>\n",
    "        <th>Variable Name</th>\n",
    "        <th>Validity</th>\n",
    "        <th>Reason</th>\n",
    "    </tr>\n",
    "    <tr>\n",
    "        <td>var_name2.</td>\n",
    "        <td>valid</td>\n",
    "        <td>Has letters, numbers, dot and underscore</td>\n",
    "    </tr>\n",
    "    <tr>\n",
    "        <td>var_name%</td>\n",
    "        <td>invalid</td>\n",
    "        <td>Has the character '%'. Only dot(.) and underscore allowed.</td>\n",
    "    </tr>\n",
    "    <tr>\n",
    "        <td>2var_name</td>\n",
    "        <td>invalid</td>\n",
    "        <td>Starts with a number</td>\n",
    "    </tr>\n",
    "    <tr>\n",
    "        <td>.var_name, var.name</td>\n",
    "        <td>valid</td>\n",
    "        <td>Can start with a dot(.) but the dot(.)should not be followed by a number.</td>\n",
    "    </tr>\n",
    "    <tr>\n",
    "        <td>.2var_name</td>\n",
    "        <td>invalid</td>\n",
    "        <td>The starting dot is followed by a number making it invalid.</td>\n",
    "    </tr>\n",
    "    <tr>\n",
    "        <td>_var_name</td>\n",
    "        <td>invalid</td>\n",
    "        <td>Starts with _ which is not valid\n",
    "</td>\n",
    "    </tr>\n",
    "</table>"
   ]
  },
  {
   "cell_type": "markdown",
   "metadata": {},
   "source": [
    "# Variable Assignment\n",
    "\n",
    "- **The variables can be assigned values using leftward, rightward and equal to operator.**\n",
    "\n",
    "- The values of the variables can be printed using `print()` or `cat()` function.\n",
    "\n",
    "- The `cat()` function <u>combines multiple items into a continuous print output.</u>"
   ]
  },
  {
   "cell_type": "code",
   "execution_count": null,
   "metadata": {},
   "outputs": [],
   "source": [
    "# Assignment using equal operator\n",
    "var.1 = c(0,1,2,3)\n",
    "\n",
    "# Assignment using leftward operator\n",
    "var.2 <- c(9,8,7,6)\n",
    "\n",
    "# Assignment using rightward operator\n",
    "c(TRUE, 1) -> var.3\n",
    "\n",
    "print(var.1)\n",
    "cat('var.1 is', var.1, '\\n')\n",
    "cat('var.2 is', var.2, '\\n')\n",
    "cat('var.3 is', var.3, '\\n')\n"
   ]
  },
  {
   "cell_type": "markdown",
   "metadata": {},
   "source": [
    "**Note -** The vector c(TRUE,1) has a mix of logical and numeric class. So logical class is coerced to numeric class making TRUE as 1."
   ]
  },
  {
   "cell_type": "markdown",
   "metadata": {},
   "source": [
    "# Data Type of a Variable\n",
    "\n",
    "In R, a variable itself is not declared of any data type, rather it gets the data type of the R - object assigned to it. So **R is called a dynamically typed language**, which means that we can change a variable’s data type of the same variable again and again when using it in a program."
   ]
  },
  {
   "cell_type": "code",
   "execution_count": null,
   "metadata": {},
   "outputs": [],
   "source": [
    "'hello' -> var_x\n",
    "cat('The class of var_x is', class(var_x), '\\n')\n",
    "\n",
    "var_x = 34.4\n",
    "cat(\"  Now the class of var_x is\",class(var_x),\"\\n\")\n",
    "\n",
    "var_x <- 27L\n",
    "cat(\"   Next the class of var_x becomes\",class(var_x),\"\\n\")\n"
   ]
  },
  {
   "cell_type": "markdown",
   "metadata": {},
   "source": [
    "# Finding Variables\n",
    "\n",
    "To know all the variables currently available in the workspace we use the `ls()` function. Also the `ls()` function can use **patterns to match the variable names**."
   ]
  },
  {
   "cell_type": "code",
   "execution_count": null,
   "metadata": {},
   "outputs": [],
   "source": [
    "print(ls())"
   ]
  },
  {
   "cell_type": "markdown",
   "metadata": {},
   "source": [
    "**Note −** It is a sample output depending on what variables are declared in your environment.\n",
    "\n",
    "The `ls()` function can use patterns to match the variable names."
   ]
  },
  {
   "cell_type": "code",
   "execution_count": null,
   "metadata": {},
   "outputs": [],
   "source": [
    "# List the variables starting with the pattern \"var\".\n",
    "print(ls(pattern = \"var\"))"
   ]
  },
  {
   "cell_type": "markdown",
   "metadata": {},
   "source": [
    "The variables starting with dot(.) are **hidden,** they can be listed using `\"all.names = TRUE\"` argument to `ls()` function."
   ]
  },
  {
   "cell_type": "code",
   "execution_count": null,
   "metadata": {},
   "outputs": [],
   "source": [
    "print(ls(all.name = TRUE))"
   ]
  },
  {
   "cell_type": "markdown",
   "metadata": {},
   "source": [
    "# Deleting Variables\n",
    "\n",
    "Variables can be deleted by using the `rm()` function.\n",
    "\n",
    "Below we delete the variable `var_1`. On printing the value of the variable error is thrown."
   ]
  },
  {
   "cell_type": "code",
   "execution_count": null,
   "metadata": {},
   "outputs": [],
   "source": [
    "var_1 <- 'Hello world'\n",
    "print(var_1)\n",
    "\n",
    "rm(var_1)\n",
    "print(var_1)"
   ]
  },
  {
   "cell_type": "markdown",
   "metadata": {},
   "source": [
    "**NOTE -** All the variables can be deleted by using the `rm()` and `ls()` function together."
   ]
  },
  {
   "cell_type": "code",
   "execution_count": null,
   "metadata": {},
   "outputs": [],
   "source": [
    "rm(list = ls())\n",
    "print(ls())"
   ]
  },
  {
   "cell_type": "markdown",
   "metadata": {},
   "source": [
    "# Operators\n",
    "\n",
    "An operator is a symbol that tells the compiler to perform specific mathematical or logical manipulations. R language is rich in built-in operators and provides following types of operators.\n",
    "\n",
    "## Types of Operators\n",
    "\n",
    "We have the following types of operators in R programming −\n",
    "\n",
    "- Arithmetic Operators\n",
    "- Relational Operators\n",
    "- Logical Operators\n",
    "- Assignment Operators\n",
    "- Miscellaneous Operators\n",
    "\n",
    "## Arithmetic Operators\n",
    "\n",
    "Following table shows the arithmetic operators supported by R language. The operators act on each element of the vector.\n",
    "\n",
    "<table style='font-size: 16px'>\n",
    "    <tr>\n",
    "        <th>Operator</th>\n",
    "        <th>Description</th>\n",
    "    </tr>\n",
    "    <tr>\n",
    "        <td><b>+</b></td>\n",
    "        <td>Adds two vectors</td>\n",
    "    </tr>\n",
    "    <tr>\n",
    "        <td><b>-</b></td>\n",
    "        <td>Subtracts second vector from the first</td>\n",
    "    </tr>\n",
    "    <tr>\n",
    "        <td><b>*</b></td>\n",
    "        <td>Multiplies both vectors</td>\n",
    "    </tr>\n",
    "    <tr>\n",
    "        <td><b>/</b></td>\n",
    "        <td>Divide the first vector with the second</td>\n",
    "    </tr>\n",
    "    <tr>\n",
    "        <td><b>%%</b></td>\n",
    "        <td>Give the remainder of the first vector with the second</td>\n",
    "    </tr>\n",
    "    <tr>\n",
    "        <td><b>%/%</b></td>\n",
    "        <td>The result of division of first vector with second (quotient)</td>\n",
    "    </tr>\n",
    "    <tr>\n",
    "        <td><b>^</b></td>\n",
    "        <td>The first vector raised to the exponent of second vector</td>\n",
    "    </tr>\n",
    "</table>"
   ]
  },
  {
   "cell_type": "code",
   "execution_count": 2,
   "metadata": {},
   "outputs": [
    {
     "name": "stdout",
     "output_type": "stream",
     "text": [
      "Addition of a and b vector:  10 8.5 10 \n",
      "Subtraction of a and b vector:  -6 2.5 2 \n",
      "Multiplication of a and b vector:  16 16.5 24 \n",
      "Division of a and b vector:  0.25 1.833333 1.5 \n",
      "Remainder of a and b vector:  2 2.5 2 \n",
      "Quotient of a and b vector:  0 1 1 \n",
      "exponent of a and b vector:  256 166.375 1296 \n"
     ]
    }
   ],
   "source": [
    "# Arithmetic Operators\n",
    "\n",
    "a <- c(2, 5.5, 6)\n",
    "b <- c(8, 3, 4)\n",
    "\n",
    "cat('Addition of a and b vector: ', a + b, '\\n')\n",
    "cat('Subtraction of a and b vector: ', a - b, '\\n')\n",
    "cat('Multiplication of a and b vector: ', a * b, '\\n')\n",
    "cat('Division of a and b vector: ', a / b, '\\n')\n",
    "cat('Remainder of a and b vector: ', a %% b, '\\n')\n",
    "cat('Quotient of a and b vector: ', a %/% b, '\\n')\n",
    "cat('exponent of a and b vector: ', a ^ b, '\\n')"
   ]
  },
  {
   "cell_type": "markdown",
   "metadata": {},
   "source": [
    "# Relational Operators\n",
    "\n",
    "Following table shows the relational operators supported by R language. Each element of the first vector is compared with the corresponding element of the second vector. The result of comparison is a Boolean value.\n",
    "\n",
    "<table style='font-size: 16px'>\n",
    "    <tr>\n",
    "        <th>Operator</th>\n",
    "        <th>Description</th>\n",
    "    </tr>\n",
    "    <tr>\n",
    "        <td><b>></b></td>\n",
    "        <td>Checks if each element of the first vector is greater than the corresponding element of the second vector.</td>\n",
    "    </tr>\n",
    "    <tr>\n",
    "        <td><b><</b></td>\n",
    "        <td>Checks if each element of the first vector is less than the corresponding element of the second vector.</td>\n",
    "    </tr>\n",
    "    <tr>\n",
    "        <td><b>==</b></td>\n",
    "        <td>Checks if each element of the first vector is equal to the corresponding element of the second vector.</td>\n",
    "    </tr>\n",
    "    <tr>\n",
    "        <td><b><=</b></td>\n",
    "        <td>Checks if each element of the first vector is less than or equal to the corresponding element of the second vector.</td>\n",
    "    </tr>\n",
    "    <tr>\n",
    "        <td><b>>=</b></td>\n",
    "        <td>Checks if each element of the first vector is greater than or equal to the corresponding element of the second vector.</td>\n",
    "    </tr>\n",
    "    <tr>\n",
    "        <td><b>!=</b></td>\n",
    "        <td>Checks if each element of the first vector is unequal to the corresponding element of the second vector.</td>\n",
    "    </tr>\n",
    "</table>"
   ]
  },
  {
   "cell_type": "code",
   "execution_count": 3,
   "metadata": {},
   "outputs": [
    {
     "name": "stdout",
     "output_type": "stream",
     "text": [
      "Greater than FALSE TRUE FALSE FALSE \n",
      "Lesser than TRUE FALSE TRUE FALSE \n",
      "Equal Too FALSE FALSE FALSE TRUE \n",
      "Lesser than Equal Too TRUE FALSE TRUE TRUE \n",
      "Greater than Equal Too FALSE TRUE FALSE TRUE \n",
      "Not Equal Too TRUE TRUE TRUE FALSE \n"
     ]
    }
   ],
   "source": [
    "# Relational Operators\n",
    "\n",
    "a <- c(2, 5.5, 6, 9)\n",
    "b <- c(8, 2.5, 14, 9)\n",
    "\n",
    "cat('Greater than', a > b , '\\n')\n",
    "cat('Lesser than', a < b , '\\n')\n",
    "cat('Equal Too', a == b , '\\n')\n",
    "cat('Lesser than Equal Too', a <= b , '\\n')\n",
    "cat('Greater than Equal Too', a >= b , '\\n')\n",
    "cat('Not Equal Too', a != b , '\\n')"
   ]
  },
  {
   "cell_type": "markdown",
   "metadata": {},
   "source": [
    "# Logical Operator\n",
    "\n",
    "Following table shows the logical operators supported by R language.\n",
    "\n",
    "- It is applicable only to vectors of type logical, numeric or complex.\n",
    "- All numbers **greater than 1 are considered as logical value TRUE**.\n",
    "- Each element of the first vector is compared with the corresponding element of the second vector.\n",
    "- The result of comparison is a Boolean value.\n",
    "\n",
    "<table style='font-size: 16px'>\n",
    "    <tr>\n",
    "        <th>Operator</th>\n",
    "        <th>Description</th>\n",
    "    </tr>\n",
    "    <tr>\n",
    "        <td><b>&</b></td>\n",
    "        <td>It is called Element-wise Logical AND operator. It combines each element of the first vector with the corresponding element of the second vector and gives a output TRUE if both the elements are TRUE.</td>\n",
    "    </tr>\n",
    "    <tr>\n",
    "        <td><b>|</b></td>\n",
    "        <td>It is called Element-wise Logical OR operator. It combines each element of the first vector with the corresponding element of the second vector and gives a output TRUE if one of the elements is TRUE.</td>\n",
    "    </tr>\n",
    "    <tr>\n",
    "        <td><b>!</b></td>\n",
    "        <td>It is called Logical NOT operator. Takes each element of the vector and gives the opposite logical value.</td>\n",
    "    </tr>\n",
    "</table>"
   ]
  },
  {
   "cell_type": "code",
   "execution_count": 6,
   "metadata": {},
   "outputs": [
    {
     "name": "stdout",
     "output_type": "stream",
     "text": [
      "AND OPERATOR TRUE TRUE FALSE TRUE \n",
      "OR OPERATOR TRUE TRUE TRUE TRUE \n",
      "NOT OPERATOR FALSE FALSE TRUE FALSE \n"
     ]
    }
   ],
   "source": [
    "# Logical Operators\n",
    "\n",
    "a <- c(3, 1, TRUE, 2+3i)\n",
    "b <- c(4, 1, FALSE, 2+3i)\n",
    "\n",
    "cat('AND OPERATOR', a & b , '\\n')\n",
    "cat('OR OPERATOR', a | b , '\\n')\n",
    "cat('NOT OPERATOR', !b , '\\n')"
   ]
  },
  {
   "cell_type": "markdown",
   "metadata": {},
   "source": [
    "The logical operator && and || considers only the first element of the vectors and give a vector of single element as output.\n",
    "\n",
    "<table style='font-size: 16px'>\n",
    "    <tr>\n",
    "        <th>Operator</th>\n",
    "        <th>Description</th>\n",
    "    </tr>\n",
    "    <tr>\n",
    "        <td><b>&&</b></td>\n",
    "        <td>Called Logical AND operator. Takes first element of both the vectors and gives the TRUE only if both are TRUE.</td>\n",
    "    </tr>\n",
    "    <tr>\n",
    "        <td><b>||</b></td>\n",
    "        <td>Called Logical AND operator. Takes first element of both the vectors and gives the TRUE only if both are TRUE.</td>\n",
    "    </tr>\n",
    "</table>"
   ]
  },
  {
   "cell_type": "code",
   "execution_count": 8,
   "metadata": {},
   "outputs": [
    {
     "name": "stdout",
     "output_type": "stream",
     "text": [
      "[1] TRUE\n",
      "[1] TRUE\n"
     ]
    }
   ],
   "source": [
    "# Logical Operators\n",
    "\n",
    "a <- c(3, 0, TRUE, 2+2i)\n",
    "b <- c(1, 3, TRUE, 2+3i)\n",
    "\n",
    "print(a&&b)\n",
    "print(a||b)"
   ]
  },
  {
   "cell_type": "markdown",
   "metadata": {},
   "source": [
    "# Assignment Operators\n",
    "\n",
    "These operators are used to assign values to vectors.\n",
    "\n",
    "<table style='font-size:16px'>\n",
    "    <tr>\n",
    "        <th>Operator</th>\n",
    "        <th>Description</th>\n",
    "    </tr>\n",
    "    <tr>\n",
    "        <td>\n",
    "            <b>&lt;-</b><br />\n",
    "            <b>or</b><br />\n",
    "            <b>=</b><br />\n",
    "            <b>or</b><br />\n",
    "            <b>&lt;&lt;-</b><br />\n",
    "        </td>\n",
    "        <td>Called Left Assignment</td>\n",
    "    </tr>\n",
    "    <tr>\n",
    "        <td>\n",
    "            <b>-&gt;</b><br />\n",
    "            <b>or</b><br />\n",
    "            <b>-&gt;&gt;</b><br />\n",
    "        </td>\n",
    "        <td>Called Right Assignment</td>\n",
    "    </tr>\n",
    "</table>"
   ]
  },
  {
   "cell_type": "markdown",
   "metadata": {},
   "source": [
    "# Miscellaneous Operators\n",
    "\n",
    "These operators are used to for specific purpose and not general mathematical or logical computation.\n",
    "\n",
    "<table style='font-size: 16px'>\n",
    "    <tr>\n",
    "        <th>Operator</th>\n",
    "        <th>Description</th>\n",
    "    </tr>\n",
    "    <tr>\n",
    "        <td><b>:</b></td>\n",
    "        <td>Colon operator. It creates the series of numbers in sequence for a vector.</td>\n",
    "    </tr>\n",
    "    <tr>\n",
    "        <td><b>%in%</b></td>\n",
    "        <td>This operator is used to identify if an element belongs to a vector.</td>\n",
    "    </tr>\n",
    "    <tr>\n",
    "        <td><b>%*%</b></td>\n",
    "        <td>This operator is used to multiply a matrix with its transpose.</td>\n",
    "    </tr>\n",
    "</table>"
   ]
  },
  {
   "cell_type": "code",
   "execution_count": 11,
   "metadata": {},
   "outputs": [
    {
     "name": "stdout",
     "output_type": "stream",
     "text": [
      "[1] 2 3 4 5 6 7 8\n",
      "[1] TRUE\n",
      "     [,1] [,2]\n",
      "[1,]   65   82\n",
      "[2,]   82  117\n"
     ]
    }
   ],
   "source": [
    "# Miscellaneous Operators\n",
    "\n",
    "a <- 2:8\n",
    "\n",
    "print(a)\n",
    "print(4 %in% a)\n",
    "\n",
    "M = matrix( c(2,6,5,1,10,4), nrow = 2, ncol = 3, byrow = TRUE)\n",
    "t = M %*% t(M)\n",
    "\n",
    "print(t)"
   ]
  },
  {
   "cell_type": "code",
   "execution_count": null,
   "metadata": {},
   "outputs": [],
   "source": []
  }
 ],
 "metadata": {
  "kernelspec": {
   "display_name": "R",
   "language": "R",
   "name": "ir"
  },
  "language_info": {
   "codemirror_mode": "r",
   "file_extension": ".r",
   "mimetype": "text/x-r-source",
   "name": "R",
   "pygments_lexer": "r",
   "version": "3.6.1"
  }
 },
 "nbformat": 4,
 "nbformat_minor": 2
}
